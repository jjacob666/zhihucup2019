{
 "cells": [
  {
   "cell_type": "code",
   "execution_count": null,
   "metadata": {},
   "outputs": [],
   "source": [
    "import warnings\n",
    "warnings.filterwarnings('ignore')"
   ]
  },
  {
   "cell_type": "code",
   "execution_count": null,
   "metadata": {},
   "outputs": [],
   "source": [
    "import pandas as pd\n",
    "import numpy as np\n",
    "import pickle\n",
    "import gc\n",
    "import os\n",
    "import time\n",
    "import multiprocessing as mp"
   ]
  },
  {
   "cell_type": "code",
   "execution_count": null,
   "metadata": {},
   "outputs": [],
   "source": [
    "from sklearn.preprocessing import LabelEncoder"
   ]
  },
  {
   "cell_type": "code",
   "execution_count": null,
   "metadata": {},
   "outputs": [],
   "source": [
    "tic = time.time()"
   ]
  },
  {
   "cell_type": "code",
   "execution_count": null,
   "metadata": {},
   "outputs": [],
   "source": [
    "SAVE_PATH = './feats'\n",
    "if not os.path.exists(SAVE_PATH):\n",
    "    print('create dir: %s' % SAVE_PATH)\n",
    "    os.mkdir(SAVE_PATH)"
   ]
  },
  {
   "cell_type": "markdown",
   "metadata": {},
   "source": [
    "### member_info: 用户特征"
   ]
  },
  {
   "cell_type": "code",
   "execution_count": null,
   "metadata": {},
   "outputs": [],
   "source": [
    "with open('../pkl/member_info.pkl', 'rb') as file:\n",
    "    member_info = pickle.load(file)\n",
    "member_info.head(2)"
   ]
  },
  {
   "cell_type": "code",
   "execution_count": null,
   "metadata": {},
   "outputs": [],
   "source": [
    "# 原始类别特征\n",
    "member_cat_feats = ['gender', 'freq', 'A1', 'B1', 'C1', 'D1', 'E1', 'A2', 'B2', 'C2', 'D2', 'E2']\n",
    "for feat in member_cat_feats:\n",
    "    member_info[feat] = LabelEncoder().fit_transform(member_info[feat])"
   ]
  },
  {
   "cell_type": "code",
   "execution_count": null,
   "metadata": {},
   "outputs": [],
   "source": [
    "# 用户关注和感兴趣的topic数\n",
    "member_info['num_atten_topic'] = member_info['topic_attent'].apply(len)\n",
    "member_info['num_interest_topic'] = member_info['topic_interest'].apply(len)"
   ]
  },
  {
   "cell_type": "code",
   "execution_count": null,
   "metadata": {},
   "outputs": [],
   "source": [
    "def most_interest_topic(d):\n",
    "    if len(d) == 0:\n",
    "        return -1\n",
    "    return list(d.keys())[np.argmax(list(d.values()))]"
   ]
  },
  {
   "cell_type": "code",
   "execution_count": null,
   "metadata": {},
   "outputs": [],
   "source": [
    "# 用户最感兴趣的topic\n",
    "member_info['most_interest_topic'] = member_info['topic_interest'].apply(most_interest_topic)\n",
    "member_info['most_interest_topic'] = LabelEncoder().fit_transform(member_info['most_interest_topic'])"
   ]
  },
  {
   "cell_type": "code",
   "execution_count": null,
   "metadata": {},
   "outputs": [],
   "source": [
    "def get_interest_values(d):\n",
    "    if len(d) == 0:\n",
    "        return [0]\n",
    "    return list(d.values())"
   ]
  },
  {
   "cell_type": "code",
   "execution_count": null,
   "metadata": {},
   "outputs": [],
   "source": [
    "# 用户topic兴趣值的统计特征\n",
    "member_info['interest_values'] = member_info['topic_interest'].apply(get_interest_values)\n",
    "member_info['min_interest_values'] = member_info['interest_values'].apply(np.min)\n",
    "member_info['max_interest_values'] = member_info['interest_values'].apply(np.max)\n",
    "member_info['mean_interest_values'] = member_info['interest_values'].apply(np.mean)\n",
    "member_info['std_interest_values'] = member_info['interest_values'].apply(np.std)"
   ]
  },
  {
   "cell_type": "code",
   "execution_count": null,
   "metadata": {},
   "outputs": [],
   "source": [
    "# 汇总\n",
    "feats = ['author_id', 'gender', 'freq', 'A1', 'B1', 'C1', 'D1', 'E1', 'A2', 'B2', 'C2', 'D2', 'E2', 'score']\n",
    "feats += ['num_atten_topic', 'num_interest_topic', 'most_interest_topic']\n",
    "feats += ['min_interest_values', 'max_interest_values', 'mean_interest_values', 'std_interest_values']\n",
    "member_feat = member_info[feats]"
   ]
  },
  {
   "cell_type": "code",
   "execution_count": null,
   "metadata": {},
   "outputs": [],
   "source": [
    "member_feat.head(3)"
   ]
  },
  {
   "cell_type": "code",
   "execution_count": null,
   "metadata": {},
   "outputs": [],
   "source": [
    "member_feat.to_hdf('./feats/member_feat.h5', key='data')\n",
    "\n",
    "del member_feat, member_info\n",
    "gc.collect()"
   ]
  },
  {
   "cell_type": "markdown",
   "metadata": {},
   "source": [
    "### question_info: 问题特征"
   ]
  },
  {
   "cell_type": "code",
   "execution_count": null,
   "metadata": {},
   "outputs": [],
   "source": [
    "with open('../pkl/question_info.pkl', 'rb') as file:\n",
    "    question_info = pickle.load(file)\n",
    "    \n",
    "question_info.head(2)"
   ]
  },
  {
   "cell_type": "code",
   "execution_count": null,
   "metadata": {},
   "outputs": [],
   "source": [
    "# title、desc词计数，topic计数\n",
    "question_info['num_title_sw'] = question_info['title_sw_series'].apply(len)\n",
    "question_info['num_title_w'] = question_info['title_w_series'].apply(len)\n",
    "question_info['num_desc_sw'] = question_info['desc_sw_series'].apply(len)\n",
    "question_info['num_desc_w'] = question_info['desc_w_series'].apply(len)\n",
    "question_info['num_qtopic'] = question_info['topic'].apply(len)"
   ]
  },
  {
   "cell_type": "code",
   "execution_count": null,
   "metadata": {},
   "outputs": [],
   "source": [
    "feats = ['question_id', 'num_title_sw', 'num_title_w', 'num_desc_sw', 'num_desc_w', 'num_qtopic', 'question_hour']\n",
    "feats += []\n",
    "question_feat = question_info[feats]"
   ]
  },
  {
   "cell_type": "code",
   "execution_count": null,
   "metadata": {},
   "outputs": [],
   "source": [
    "question_feat.head(3)"
   ]
  },
  {
   "cell_type": "code",
   "execution_count": null,
   "metadata": {},
   "outputs": [],
   "source": [
    "question_feat.to_hdf('./feats/question_feat.h5', key='data')"
   ]
  },
  {
   "cell_type": "code",
   "execution_count": null,
   "metadata": {},
   "outputs": [],
   "source": [
    "del question_info, question_feat\n",
    "gc.collect()"
   ]
  },
  {
   "cell_type": "markdown",
   "metadata": {},
   "source": [
    "### member_info & question_info: 用户和问题的交互特征"
   ]
  },
  {
   "cell_type": "code",
   "execution_count": null,
   "metadata": {},
   "outputs": [],
   "source": [
    "with open('../pkl/invite_info.pkl', 'rb') as file:\n",
    "    invite_info = pickle.load(file)\n",
    "with open('../pkl/invite_info_evaluate.pkl', 'rb') as file:\n",
    "    invite_info_evaluate = pickle.load(file)\n",
    "with open('../pkl/member_info.pkl', 'rb') as file:\n",
    "    member_info = pickle.load(file)\n",
    "with open('../pkl/question_info.pkl', 'rb') as file:\n",
    "    question_info = pickle.load(file)"
   ]
  },
  {
   "cell_type": "code",
   "execution_count": null,
   "metadata": {},
   "outputs": [],
   "source": [
    "# 合并 author_id，question_id\n",
    "invite = pd.concat([invite_info, invite_info_evaluate])\n",
    "invite_id = invite[['author_id', 'question_id']]\n",
    "invite_id['author_question_id'] = invite_id['author_id'] + invite_id['question_id']\n",
    "invite_id.drop_duplicates(subset='author_question_id',inplace=True)\n",
    "invite_id_qm = invite_id.merge(member_info[['author_id', 'topic_attent', 'topic_interest']], 'left', 'author_id').merge(question_info[['question_id', 'topic']], 'left', 'question_id')\n",
    "invite_id_qm.head(2)"
   ]
  },
  {
   "cell_type": "markdown",
   "metadata": {},
   "source": [
    "#### 注：这里为了加快运算，所以用了多进程 multiprocessing，windows + multiprocessing + jupyter可能有bug，建议linux上跑。"
   ]
  },
  {
   "cell_type": "code",
   "execution_count": null,
   "metadata": {},
   "outputs": [],
   "source": [
    "# 分割 df，方便多进程跑\n",
    "def split_df(df, n):\n",
    "    chunk_size = int(np.ceil(len(df) / n))\n",
    "    return [df[i*chunk_size:(i+1)*chunk_size] for i in range(n)]"
   ]
  },
  {
   "cell_type": "code",
   "execution_count": null,
   "metadata": {},
   "outputs": [],
   "source": [
    "def gc_mp(pool, ret, chunk_list):\n",
    "    del pool\n",
    "    for r in ret:\n",
    "        del r\n",
    "    del ret\n",
    "    for cl in chunk_list:\n",
    "        del cl\n",
    "    del chunk_list\n",
    "    gc.collect()"
   ]
  },
  {
   "cell_type": "code",
   "execution_count": null,
   "metadata": {},
   "outputs": [],
   "source": [
    "# 用户关注topic和问题 topic的交集\n",
    "def process(df):\n",
    "    return df.apply(lambda row: list(set(row['topic_attent']) & set(row['topic'])),axis=1)\n",
    "\n",
    "pool = mp.Pool()\n",
    "chunk_list = split_df(invite_id_qm, 100)\n",
    "ret = pool.map(process, chunk_list)\n",
    "invite_id_qm['topic_attent_intersection'] = pd.concat(ret)\n",
    "gc_mp(pool, ret, chunk_list)"
   ]
  },
  {
   "cell_type": "code",
   "execution_count": null,
   "metadata": {},
   "outputs": [],
   "source": [
    "# 用户感兴趣topic和问题 topic的交集\n",
    "def process(df):\n",
    "    return df.apply(lambda row: list(set(row['topic_interest'].keys()) & set(row['topic'])),axis=1)\n",
    "\n",
    "pool = mp.Pool()\n",
    "chunk_list = split_df(invite_id_qm, 100)\n",
    "ret = pool.map(process, chunk_list)\n",
    "invite_id_qm['topic_interest_intersection'] = pd.concat(ret)\n",
    "gc_mp(pool, ret, chunk_list)"
   ]
  },
  {
   "cell_type": "code",
   "execution_count": null,
   "metadata": {},
   "outputs": [],
   "source": [
    "# 用户感兴趣topic和问题 topic的交集的兴趣值\n",
    "def process(df):\n",
    "    return df.apply(lambda row: [row['topic_interest'][t] for t in row['topic_interest_intersection']],axis=1)\n",
    "\n",
    "pool = mp.Pool()\n",
    "chunk_list = split_df(invite_id_qm, 100)\n",
    "ret = pool.map(process, chunk_list)\n",
    "invite_id_qm['topic_interest_intersection_values'] = pd.concat(ret)\n",
    "gc_mp(pool, ret, chunk_list)"
   ]
  },
  {
   "cell_type": "code",
   "execution_count": null,
   "metadata": {},
   "outputs": [],
   "source": [
    "# 交集topic计数\n",
    "invite_id_qm['num_topic_attent_intersection'] = invite_id_qm['topic_attent_intersection'].apply(len)\n",
    "invite_id_qm['num_topic_interest_intersection'] = invite_id_qm['topic_interest_intersection'].apply(len)"
   ]
  },
  {
   "cell_type": "code",
   "execution_count": null,
   "metadata": {},
   "outputs": [],
   "source": [
    "# 交集topic兴趣值统计\n",
    "invite_id_qm['topic_interest_intersection_values'] = invite_id_qm['topic_interest_intersection_values'].apply(lambda x: [0] if len(x) == 0 else x)\n",
    "invite_id_qm['min_topic_interest_intersection_values'] = invite_id_qm['topic_interest_intersection_values'].apply(np.min)\n",
    "invite_id_qm['max_topic_interest_intersection_values'] = invite_id_qm['topic_interest_intersection_values'].apply(np.max)\n",
    "invite_id_qm['mean_topic_interest_intersection_values'] = invite_id_qm['topic_interest_intersection_values'].apply(np.mean)\n",
    "invite_id_qm['std_topic_interest_intersection_values'] = invite_id_qm['topic_interest_intersection_values'].apply(np.std)"
   ]
  },
  {
   "cell_type": "code",
   "execution_count": null,
   "metadata": {},
   "outputs": [],
   "source": [
    "feats = ['author_question_id', 'num_topic_attent_intersection', 'num_topic_interest_intersection', 'min_topic_interest_intersection_values', 'max_topic_interest_intersection_values', 'mean_topic_interest_intersection_values', 'std_topic_interest_intersection_values']\n",
    "feats += []\n",
    "member_question_feat = invite_id_qm[feats]\n",
    "member_question_feat.head(3)"
   ]
  },
  {
   "cell_type": "code",
   "execution_count": null,
   "metadata": {},
   "outputs": [],
   "source": [
    "member_question_feat.to_hdf('./feats/member_question_feat.h5', key='data')"
   ]
  },
  {
   "cell_type": "code",
   "execution_count": null,
   "metadata": {},
   "outputs": [],
   "source": [
    "del invite_id_qm, member_question_feat\n",
    "gc.collect()"
   ]
  },
  {
   "cell_type": "code",
   "execution_count": null,
   "metadata": {},
   "outputs": [],
   "source": [
    "toc = time.time()\n",
    "print('Used time: %d' % int(toc-tic))"
   ]
  }
 ],
 "metadata": {
  "kernelspec": {
   "display_name": "Python 3",
   "language": "python",
   "name": "python3"
  },
  "language_info": {
   "codemirror_mode": {
    "name": "ipython",
    "version": 3
   },
   "file_extension": ".py",
   "mimetype": "text/x-python",
   "name": "python",
   "nbconvert_exporter": "python",
   "pygments_lexer": "ipython3",
   "version": "3.7.3"
  }
 },
 "nbformat": 4,
 "nbformat_minor": 2
}
