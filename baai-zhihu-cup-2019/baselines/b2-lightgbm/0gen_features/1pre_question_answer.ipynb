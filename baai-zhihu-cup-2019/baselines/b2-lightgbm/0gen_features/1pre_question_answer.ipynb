{
 "cells": [
  {
   "cell_type": "code",
   "execution_count": null,
   "metadata": {},
   "outputs": [],
   "source": [
    "import pandas as pd\n",
    "import os\n",
    "import numpy as np\n",
    "\n",
    "data_path = '../data'\n",
    "question_info = pd.read_csv(os.path.join(data_path, 'question_info_0926.txt'), header=None, sep='\\t')\n",
    "answer_info = pd.read_csv(os.path.join(data_path, 'answer_info_0926.txt'), header=None, sep='\\t')\n",
    "\n",
    "answer_info.columns = ['回答id', '问题id', '用户id', '回答创建时间', '回答内容的单字编码序列', '回答内容的切词编码序列', '回答是否被标优', '回答是否被推荐', '回答是否被收入圆桌', '是否包含图片', '是否包含视频', '回答字数', '点赞数', '取赞数', '评论数', '收藏数', '感谢数', '举报数', '没有帮助数', '反对数']\n",
    "question_info.columns = ['问题id','问题创建时间','问题标题单字编码','问题标题切词编码','问题描述单字编码','问题描述切词编码','问题绑定话题']\n",
    "\n",
    "answer_info = pd.merge(answer_info, question_info, how='left', on='问题id')\n",
    "\n",
    "drop_feat = ['回答内容的单字编码序列','回答内容的切词编码序列']\n",
    "answer_info  = answer_info.drop(drop_feat, axis=1)"
   ]
  },
  {
   "cell_type": "code",
   "execution_count": null,
   "metadata": {},
   "outputs": [],
   "source": [
    "print(answer_info.info())"
   ]
  },
  {
   "cell_type": "code",
   "execution_count": null,
   "metadata": {},
   "outputs": [],
   "source": [
    "answer_info['回答创建时间-day'] = answer_info['回答创建时间'].apply(lambda x:x.split('-')[0].split('D')[1]).astype(int)\n",
    "answer_info['回答创建时间-hour'] = answer_info['回答创建时间'].apply(lambda x:x.split('-')[1].split('H')[1]).astype(int)"
   ]
  },
  {
   "cell_type": "code",
   "execution_count": null,
   "metadata": {},
   "outputs": [],
   "source": [
    "# 减少内存占用\n",
    "def reduce_mem_usage(df):\n",
    "    \"\"\" iterate through all the columns of a dataframe and modify the data type\n",
    "        to reduce memory usage.        \n",
    "    \"\"\"\n",
    "    start_mem = df.memory_usage().sum() / 1024**2\n",
    "    print('Memory usage of dataframe is {:.2f} MB'.format(start_mem))\n",
    "    \n",
    "    for col in df.columns:\n",
    "        col_type = df[col].dtype\n",
    "        \n",
    "        if col_type != object:\n",
    "            c_min = df[col].min()\n",
    "            c_max = df[col].max()\n",
    "            if str(col_type)[:3] == 'int':\n",
    "                if c_min > np.iinfo(np.int8).min and c_max < np.iinfo(np.int8).max:\n",
    "                    df[col] = df[col].astype(np.int8)\n",
    "                elif c_min > np.iinfo(np.int16).min and c_max < np.iinfo(np.int16).max:\n",
    "                    df[col] = df[col].astype(np.int16)\n",
    "                elif c_min > np.iinfo(np.int32).min and c_max < np.iinfo(np.int32).max:\n",
    "                    df[col] = df[col].astype(np.int32)\n",
    "                elif c_min > np.iinfo(np.int64).min and c_max < np.iinfo(np.int64).max:\n",
    "                    df[col] = df[col].astype(np.int64)  \n",
    "\n",
    "    end_mem = df.memory_usage().sum() / 1024**2\n",
    "    print('Memory usage after optimization is: {:.2f} MB'.format(end_mem))\n",
    "    print('Decreased by {:.1f}%'.format(100 * (start_mem - end_mem) / start_mem))\n",
    "    \n",
    "    return df"
   ]
  },
  {
   "cell_type": "code",
   "execution_count": null,
   "metadata": {},
   "outputs": [],
   "source": [
    "print(answer_info.info())"
   ]
  },
  {
   "cell_type": "code",
   "execution_count": null,
   "metadata": {},
   "outputs": [],
   "source": [
    "answer_info['问题创建时间-day'] = answer_info['问题创建时间'].apply(lambda x:x.split('-')[0].split('D')[1]).astype(int)\n",
    "answer_info['问题创建时间-hour'] = answer_info['问题创建时间'].apply(lambda x:x.split('-')[1].split('H')[1]).astype(int)"
   ]
  },
  {
   "cell_type": "code",
   "execution_count": null,
   "metadata": {},
   "outputs": [],
   "source": [
    "answer_info['用户回答与问题创建时间距离-day'] = answer_info['回答创建时间-day'] - answer_info['问题创建时间-day']\n",
    "answer_info.loc[answer_info['用户回答与问题创建时间距离-day']==None, '用户回答与问题创建时间距离-day'] = 100\n",
    "t3 = answer_info[answer_info['用户回答与问题创建时间距离-day']<100]\n",
    "t3 = t3.groupby('用户id')['用户回答与问题创建时间距离-day'].agg(['mean', 'sum', 'max', 'min']).reset_index()  \n",
    "t3.columns = ['用户id', 'u_qa_diffday_mean', 'u_qa_diffday_sum', 'u_qa_diffday_max', 'u_qa_diffday_min']\n",
    "print(t3.info())"
   ]
  },
  {
   "cell_type": "code",
   "execution_count": null,
   "metadata": {},
   "outputs": [],
   "source": [
    "def extract_user_qa_diff_day(answer_info):\n",
    "    answer_info['用户回答与问题创建时间距离-day'] = answer_info['回答创建时间-day'] - answer_info['问题创建时间-day']\n",
    "    answer_info.loc[answer_info['用户回答与问题创建时间距离-day']==None, '用户回答与问题创建时间距离-day'] = 100\n",
    "    t3 = answer_info[answer_info['用户回答与问题创建时间距离-day']<100]\n",
    "    t3 = t3.groupby('用户id')['用户回答与问题创建时间距离-day'].agg(['mean', 'sum', 'max', 'min']).reset_index()  \n",
    "    t3.columns = ['用户id', 'u_qa_diffday_mean', 'u_qa_diffday_sum', 'u_qa_diffday_max', 'u_qa_diffday_min']\n",
    "    #answer_info = pd.merge(answer_info, t3, on='用户id', how='left')\n",
    "    \n",
    "    #answer_info = reduce_mem_usage(answer_info)\n",
    "    return t3\n",
    "\n",
    "train_start = 3807\n",
    "train_end = 3860\n",
    "val_start = train_start + 7\n",
    "val_end = train_end + 7\n",
    "\n",
    "train_for_save1 = answer_info[answer_info['回答创建时间-day']>=train_start][answer_info['回答创建时间-day']<=train_end]\n",
    "train_for_save1 = extract_user_qa_diff_day(train_for_save1)\n",
    "\n",
    "val_for_save1 = answer_info[answer_info['回答创建时间-day']>=val_start][answer_info['回答创建时间-day']<=val_end]\n",
    "val_for_save1 = extract_user_qa_diff_day(val_for_save1)"
   ]
  },
  {
   "cell_type": "code",
   "execution_count": null,
   "metadata": {},
   "outputs": [],
   "source": [
    "print(train_for_save1)"
   ]
  },
  {
   "cell_type": "code",
   "execution_count": null,
   "metadata": {},
   "outputs": [],
   "source": [
    "train_for_save1.to_hdf('u_qa_day_feats_train.h5', key='data')\n",
    "val_for_save1.to_hdf('u_qa_day_feats_val.h5', key='data')"
   ]
  },
  {
   "cell_type": "code",
   "execution_count": null,
   "metadata": {},
   "outputs": [],
   "source": [
    "train1 = pd.read_csv(os.path.join(data_path, 'invite_info_0926.txt'), header=None, sep='\\t')\n",
    "train1.columns = ['问题id', '用户id', '邀请创建时间','是否回答']\n",
    "train1['邀请创建时间-day'] = train1['邀请创建时间'].apply(lambda x:x.split('-')[0].split('D')[1]).astype(int)\n",
    "train1['邀请创建时间-hour'] = train1['邀请创建时间'].apply(lambda x:x.split('-')[1].split('H')[1]).astype(int)\n",
    "\n",
    "answer_info = pd.merge(answer_info, train1, how='left', on=['用户id','问题id'])"
   ]
  },
  {
   "cell_type": "code",
   "execution_count": null,
   "metadata": {},
   "outputs": [],
   "source": [
    "print(answer_info.info())"
   ]
  },
  {
   "cell_type": "code",
   "execution_count": null,
   "metadata": {},
   "outputs": [],
   "source": [
    "def extract_question_features(info,end):\n",
    "    \n",
    "    info['q_a_num'] = info['问题id'].map(info['回答id'].groupby(info['问题id']).nunique())\n",
    "    info['q_a_num_last3'] = info['问题id'].map(info[info['邀请创建时间-day']>(end-3)]['回答id'].groupby(info['问题id']).nunique())\n",
    "    info['q_a_num_last7'] = info['问题id'].map(info[info['邀请创建时间-day']>(end-7)]['回答id'].groupby(info['问题id']).nunique())\n",
    "    info['q_a_num_last14'] = info['问题id'].map(info[info['邀请创建时间-day']>(end-14)]['回答id'].groupby(info['问题id']).nunique())\n",
    "    \n",
    "    info['问题最近7天回答比例'] = info['问题id'].map(info[info['邀请创建时间-day']>(end-7)]['回答id'].groupby(info['问题id']).nunique())/info['问题关联回答数']\n",
    "    info['问题最近3天回答比例'] = info['问题id'].map(info[info['邀请创建时间-day']>(end-3)]['回答id'].groupby(info['问题id']).nunique())/info['问题关联回答数']\n",
    "    info['问题最近14天回答比例'] = info['问题id'].map(info[info['邀请创建时间-day']>(end-14)]['回答id'].groupby(info['问题id']).nunique())/info['问题关联回答数']\n",
    "\n",
    "    info['问题上次回答时间'] = info['问题id'].map(info['回答创建时间-day'].groupby(info['问题id']).max())\n",
    "    \n",
    "#     feat_cols = ['点赞数', '取赞数', '评论数', '收藏数', '感谢数', '举报数', '没有帮助数', '反对数','回答是否被标优', '回答是否被推荐', '回答是否被收入圆桌', '是否包含图片', '是否包含视频', '回答字数']\n",
    "#     for feat in feat_cols:\n",
    "#         info['问题总'+feat+'_last3week'] = info['用户id'].map(info[feat].groupby(info['问题id']).sum())\n",
    "#         info['问题平均'+feat+'_last3week'] = info['用户id'].map(info[feat].groupby(info['问题id']).mean())\n",
    "#         info['问题最大'+feat+'_last3week'] = info['用户id'].map(info[feat].groupby(info['问题id']).max())\n",
    "#     #print(info[['问题id','']])\n",
    "        \n",
    "#     for feat in feat_cols:\n",
    "#         info['问题总'+feat+'_last3day'] = info['用户id'].map(info[info['邀请创建时间-day']>end-3][feat].groupby(info['问题id']).sum())\n",
    "#         info['问题平均'+feat+'_last3day'] = info['用户id'].map(info[info['邀请创建时间-day']>end-3][feat].groupby(info['问题id']).mean())\n",
    "#         info['问题最大'+feat+'_last3day'] = info['用户id'].map(info[info['邀请创建时间-day']>end-3][feat].groupby(info['问题id']).max())\n",
    "        \n",
    "#     for feat in feat_cols:\n",
    "#         info['问题总'+feat+'_last1week'] = info['用户id'].map(info[info['邀请创建时间-day']>end-7][feat].groupby(info['问题id']).sum())\n",
    "#         info['问题平均'+feat+'_last1week'] = info['用户id'].map(info[info['邀请创建时间-day']>end-7][feat].groupby(info['问题id']).mean())\n",
    "#         info['问题最大'+feat+'_last1week'] = info['用户id'].map(info[info['邀请创建时间-day']>end-7][feat].groupby(info['问题id']).max())\n",
    "        \n",
    "#     for feat in feat_cols:\n",
    "#         info['问题总'+feat+'_last2week'] = info['用户id'].map(info[info['邀请创建时间-day']>end-14][feat].groupby(info['问题id']).sum())\n",
    "#         info['问题平均'+feat+'_last2week'] = info['用户id'].map(info[info['邀请创建时间-day']>end-14][feat].groupby(info['问题id']).mean())\n",
    "#         info['问题最大'+feat+'_last2week'] = info['用户id'].map(info[info['邀请创建时间-day']>end-14][feat].groupby(info['问题id']).max())\n",
    "    \n",
    "    drop_feat = ['用户回答与问题创建时间距离-day','回答id','用户id','邀请创建时间','邀请创建时间-day','邀请创建时间-hour','是否回答','回答创建时间','回答是否被标优','回答是否被推荐','回答是否被收入圆桌','点赞数','评论数','收藏数','感谢数','问题创建时间','问题标题单字编码',\n",
    "            '问题标题切词编码','问题描述单字编码','问题描述切词编码','问题绑定话题','回答创建时间-day','回答创建时间-hour','取赞数','举报数', '没有帮助数', '反对数','回答是否被标优', '回答是否被推荐', '回答是否被收入圆桌', '是否包含图片', '是否包含视频', '回答字数']\n",
    "    info = info.drop(drop_feat, axis=1)\n",
    "    info.drop_duplicates(subset=None, keep='first', inplace=True)\n",
    "    \n",
    "    info = info.fillna(0)\n",
    "    info = reduce_mem_usage(info)\n",
    "\n",
    "    print(info.info())\n",
    "    \n",
    "    return info"
   ]
  },
  {
   "cell_type": "code",
   "execution_count": null,
   "metadata": {
    "scrolled": true
   },
   "outputs": [],
   "source": [
    "train_start = 3807\n",
    "train_end = 3860\n",
    "val_start = train_start + 7\n",
    "val_end = train_end + 7\n",
    "\n",
    "train_for_save = answer_info[answer_info['邀请创建时间-day']>=train_start][answer_info['邀请创建时间-day']<=train_end]\n",
    "train_for_save = extract_question_features(train_for_save, train_end)\n",
    "\n",
    "val_for_save = answer_info[answer_info['邀请创建时间-day']>=val_start][answer_info['邀请创建时间-day']<=val_end]\n",
    "val_for_save = extract_question_features(val_for_save, val_end)"
   ]
  },
  {
   "cell_type": "code",
   "execution_count": null,
   "metadata": {},
   "outputs": [],
   "source": [
    "print(train_for_save['问题id'].nunique())"
   ]
  },
  {
   "cell_type": "code",
   "execution_count": null,
   "metadata": {},
   "outputs": [],
   "source": [
    "train_for_save.to_hdf('question_answer_train.h5', key='data')\n",
    "val_for_save.to_hdf('question_answer_val.h5', key='data')"
   ]
  },
  {
   "cell_type": "markdown",
   "metadata": {},
   "source": [
    "## ---分割线---"
   ]
  },
  {
   "cell_type": "code",
   "execution_count": null,
   "metadata": {},
   "outputs": [],
   "source": [
    "import pandas as pd\n",
    "import os\n",
    "qinfo = pd.read_hdf('question_answer.h5', key='data')"
   ]
  },
  {
   "cell_type": "code",
   "execution_count": null,
   "metadata": {},
   "outputs": [],
   "source": [
    "print(qinfo.info())"
   ]
  },
  {
   "cell_type": "code",
   "execution_count": null,
   "metadata": {},
   "outputs": [],
   "source": [
    "print(info_for_save['问题id'].nunique())"
   ]
  },
  {
   "cell_type": "code",
   "execution_count": null,
   "metadata": {},
   "outputs": [],
   "source": [
    "qinfo.drop_duplicates(inplace=True)"
   ]
  },
  {
   "cell_type": "code",
   "execution_count": null,
   "metadata": {},
   "outputs": [],
   "source": [
    "print(qinfo.info())"
   ]
  },
  {
   "cell_type": "code",
   "execution_count": null,
   "metadata": {},
   "outputs": [],
   "source": [
    "qinfo.to_hdf('question_answer.h5', key='data')"
   ]
  }
 ],
 "metadata": {
  "kernelspec": {
   "display_name": "Python 3",
   "language": "python",
   "name": "python3"
  },
  "language_info": {
   "codemirror_mode": {
    "name": "ipython",
    "version": 3
   },
   "file_extension": ".py",
   "mimetype": "text/x-python",
   "name": "python",
   "nbconvert_exporter": "python",
   "pygments_lexer": "ipython3",
   "version": "3.7.3"
  }
 },
 "nbformat": 4,
 "nbformat_minor": 2
}
