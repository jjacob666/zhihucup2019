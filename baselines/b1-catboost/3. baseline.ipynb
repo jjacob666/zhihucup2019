{
 "cells": [
  {
   "cell_type": "code",
   "execution_count": null,
   "metadata": {},
   "outputs": [],
   "source": [
    "import warnings\n",
    "warnings.filterwarnings('ignore')"
   ]
  },
  {
   "cell_type": "code",
   "execution_count": null,
   "metadata": {},
   "outputs": [],
   "source": [
    "import pandas as pd\n",
    "import numpy as np\n",
    "import gc\n",
    "import pickle\n",
    "import time"
   ]
  },
  {
   "cell_type": "code",
   "execution_count": null,
   "metadata": {},
   "outputs": [],
   "source": [
    "from sklearn.preprocessing import LabelEncoder\n",
    "from sklearn.model_selection import StratifiedKFold"
   ]
  },
  {
   "cell_type": "code",
   "execution_count": null,
   "metadata": {},
   "outputs": [],
   "source": [
    "from catboost import CatBoostClassifier, Pool"
   ]
  },
  {
   "cell_type": "code",
   "execution_count": null,
   "metadata": {},
   "outputs": [],
   "source": [
    "tic = time.time()"
   ]
  },
  {
   "cell_type": "code",
   "execution_count": null,
   "metadata": {},
   "outputs": [],
   "source": [
    "with open('../pkl/invite_info.pkl', 'rb') as file:\n",
    "    invite_info = pickle.load(file)\n",
    "with open('../pkl/invite_info_evaluate.pkl', 'rb') as file:\n",
    "    invite_info_evaluate = pickle.load(file)"
   ]
  },
  {
   "cell_type": "code",
   "execution_count": null,
   "metadata": {},
   "outputs": [],
   "source": [
    "member_feat = pd.read_hdf('./feats/member_feat.h5', key='data')  # 0.689438\n",
    "question_feat = pd.read_hdf('./feats/question_feat.h5', key='data')  # 0.706848"
   ]
  },
  {
   "cell_type": "code",
   "execution_count": null,
   "metadata": {},
   "outputs": [],
   "source": [
    "member_question_feat = pd.read_hdf('./feats/member_question_feat.h5', key='data')  # 719116 d12\n",
    "invite_info['author_question_id'] = invite_info['author_id'] + invite_info['question_id']\n",
    "invite_info_evaluate['author_question_id'] = invite_info_evaluate['author_id'] + invite_info_evaluate['question_id']"
   ]
  },
  {
   "cell_type": "code",
   "execution_count": null,
   "metadata": {},
   "outputs": [],
   "source": [
    "train = invite_info.merge(member_feat, 'left', 'author_id')\n",
    "test = invite_info_evaluate.merge(member_feat, 'left', 'author_id')"
   ]
  },
  {
   "cell_type": "code",
   "execution_count": null,
   "metadata": {},
   "outputs": [],
   "source": [
    "train = train.merge(question_feat, 'left', 'question_id')\n",
    "test = test.merge(question_feat, 'left', 'question_id')"
   ]
  },
  {
   "cell_type": "code",
   "execution_count": null,
   "metadata": {},
   "outputs": [],
   "source": [
    "train = train.merge(member_question_feat, 'left', 'author_question_id')\n",
    "test = test.merge(member_question_feat, 'left', 'author_question_id')"
   ]
  },
  {
   "cell_type": "code",
   "execution_count": null,
   "metadata": {},
   "outputs": [],
   "source": [
    "del member_feat, question_feat, member_question_feat\n",
    "gc.collect()"
   ]
  },
  {
   "cell_type": "code",
   "execution_count": null,
   "metadata": {},
   "outputs": [],
   "source": [
    "drop_feats = ['question_id', 'author_id', 'author_question_id', 'invite_time', 'label', 'invite_day']\n",
    "\n",
    "used_feats = [f for f in train.columns if f not in drop_feats]\n",
    "print(len(used_feats))\n",
    "print(used_feats)"
   ]
  },
  {
   "cell_type": "code",
   "execution_count": null,
   "metadata": {},
   "outputs": [],
   "source": [
    "train_x = train[used_feats].reset_index(drop=True)\n",
    "train_y = train['label'].reset_index(drop=True)\n",
    "test_x = test[used_feats].reset_index(drop=True)"
   ]
  },
  {
   "cell_type": "code",
   "execution_count": null,
   "metadata": {
    "scrolled": true
   },
   "outputs": [],
   "source": [
    "preds = np.zeros((test_x.shape[0], 2))\n",
    "scores = []\n",
    "has_saved = False\n",
    "imp = pd.DataFrame()\n",
    "imp['feat'] = used_feats\n",
    "\n",
    "kfold = StratifiedKFold(n_splits=5, shuffle=True, random_state=42)\n",
    "for index, (tr_idx, va_idx) in enumerate(kfold.split(train_x, train_y)):\n",
    "    print('*' * 30)\n",
    "    X_train, y_train, X_valid, y_valid = train_x.iloc[tr_idx], train_y.iloc[tr_idx], train_x.iloc[va_idx], train_y.iloc[va_idx]\n",
    "    cate_features = []\n",
    "    train_pool = Pool(X_train, y_train, cat_features=cate_features)\n",
    "    eval_pool = Pool(X_valid, y_valid,cat_features=cate_features)\n",
    "    if not has_saved: \n",
    "        cbt_model = CatBoostClassifier(iterations=10000,\n",
    "                           learning_rate=0.1,\n",
    "                           eval_metric='AUC',\n",
    "                           use_best_model=True,\n",
    "                           random_seed=42,\n",
    "                           logging_level='Verbose',\n",
    "                           task_type='GPU',\n",
    "                           devices='0',\n",
    "                           early_stopping_rounds=300,\n",
    "                           loss_function='Logloss',\n",
    "                           depth=12,\n",
    "                           )\n",
    "        cbt_model.fit(train_pool, eval_set=eval_pool, verbose=100)\n",
    "#         with open('./models/fold%d_cbt_v1.mdl' % index, 'wb') as file:\n",
    "#             pickle.dump(cbt_model, file)\n",
    "    else:\n",
    "        with open('./models/fold%d_cbt_v1.mdl' % index, 'rb') as file:\n",
    "            cbt_model = pickle.load(file)\n",
    "    \n",
    "    imp['score%d' % (index+1)] = cbt_model.feature_importances_\n",
    "    \n",
    "    score = cbt_model.best_score_['validation']['AUC']\n",
    "    scores.append(score)\n",
    "    print('fold %d round %d : score: %.6f | mean score %.6f' % (index+1, cbt_model.best_iteration_, score,np.mean(scores))) \n",
    "    preds += cbt_model.predict_proba(test_x)  \n",
    "    \n",
    "    del cbt_model, train_pool, eval_pool\n",
    "    del X_train, y_train, X_valid, y_valid\n",
    "    import gc\n",
    "    gc.collect()\n",
    "    \n",
    "#     mdls.append(cbt_model)"
   ]
  },
  {
   "cell_type": "code",
   "execution_count": null,
   "metadata": {},
   "outputs": [],
   "source": [
    "imp.sort_values(by='score1', ascending=False)"
   ]
  },
  {
   "cell_type": "code",
   "execution_count": null,
   "metadata": {},
   "outputs": [],
   "source": [
    "result = invite_info_evaluate[['question_id', 'author_id', 'invite_time']]\n",
    "result['result'] = preds[:, 1] / 5\n",
    "result.head()"
   ]
  },
  {
   "cell_type": "code",
   "execution_count": null,
   "metadata": {},
   "outputs": [],
   "source": [
    "# result.to_csv('./result_719116.txt', sep='\\t', index=False, header=False)"
   ]
  },
  {
   "cell_type": "code",
   "execution_count": null,
   "metadata": {},
   "outputs": [],
   "source": [
    "toc = time.time()\n",
    "print('Used time: %d' % int(toc - tic))"
   ]
  }
 ],
 "metadata": {
  "kernelspec": {
   "display_name": "Python 3",
   "language": "python",
   "name": "python3"
  },
  "language_info": {
   "codemirror_mode": {
    "name": "ipython",
    "version": 3
   },
   "file_extension": ".py",
   "mimetype": "text/x-python",
   "name": "python",
   "nbconvert_exporter": "python",
   "pygments_lexer": "ipython3",
   "version": "3.7.3"
  }
 },
 "nbformat": 4,
 "nbformat_minor": 2
}
